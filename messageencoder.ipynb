{
  "nbformat": 4,
  "nbformat_minor": 0,
  "metadata": {
    "colab": {
      "provenance": [],
      "authorship_tag": "ABX9TyPKvuH9ZdmmM8movfOve6oJ",
      "include_colab_link": true
    },
    "kernelspec": {
      "name": "python3",
      "display_name": "Python 3"
    },
    "language_info": {
      "name": "python"
    }
  },
  "cells": [
    {
      "cell_type": "markdown",
      "metadata": {
        "id": "view-in-github",
        "colab_type": "text"
      },
      "source": [
        "<a href=\"https://colab.research.google.com/github/Murthy-Kolluru/modelthinking/blob/main/messageencoder.ipynb\" target=\"_parent\"><img src=\"https://colab.research.google.com/assets/colab-badge.svg\" alt=\"Open In Colab\"/></a>"
      ]
    },
    {
      "cell_type": "code",
      "source": [
        "from google.colab import drive\n",
        "\n",
        "# Mount Google Drive\n",
        "drive.mount('/content/drive')\n",
        "\n",
        "import numpy as np\n",
        "import matplotlib.pyplot as plt\n",
        "\n",
        "# Define function to read symbols from file\n",
        "def read_symbols(filename):\n",
        "    symbols_file_path = '/content/drive/MyDrive/' + filename\n",
        "\n",
        "    with open(symbols_file_path) as symbols_file:\n",
        "        symbols = symbols_file.read().splitlines()\n",
        "\n",
        "    return symbols\n",
        "\n",
        "# Define function to encrypt a message using given symbols\n",
        "def encrypt_message(message, symbols):\n",
        "    permutation = np.random.permutation(len(symbols))\n",
        "\n",
        "    # Create a dictionary to map each character to its corresponding character in the permutation\n",
        "    char_map = {symbols[i]: symbols[permutation[i]] for i in range(len(symbols))}\n",
        "    char_map[\" \"] = \" \"  # Map space character to itself\n",
        "\n",
        "    # Encrypt the message using the character map\n",
        "    encrypted_message = \"\".join(char_map.get(char, char) for char in message.lower())\n",
        "\n",
        "    return encrypted_message\n",
        "\n",
        "# Read symbols from sym.txt\n",
        "symbols = read_symbols(\"sym.txt\")\n",
        "\n",
        "# Define the message to encrypt\n",
        "#message = \"ATLAS SkillTech University convened its second Advisory Board Meeting at the ATLAS Campus, chaired by Mr Deepak Parekh, Chairman, HDFC; also joined by a very special Guest of Honour – Baroness Royall of Blaisdon, Lady Janet Royall – Principal of Somerville College, University of Oxford.  This week we witnessed the presence of extraordinary leaders for the meeting. It was yet another opportunity to engage with the leadership on the ATLAS Vision to create a deeper integration between industry and academia to nurture young talent to be better prepared and skilled for Industry 4.0.  A big achievement for ATLAS SkillTech University as we recieved the award for the “Most Futuristic & Leading Skill University of the Year 2022” India Award under “Innovative Teaching Approach, Quality Education & Leading Infrastructure “Category for the year 2022 (GLOBAL EDITION). from the prestigious National Architecture and Interior Design Excellence Awards 2022- Global Edition. This conference and event held in Bengaluru witnessed the presence of more than 450 Architects / Brands / Interior Designers / Builders/ Design Institutes under one roof.\"\n",
        "message= \"Ramblings of a second sem student night before Internship submission. I think Dr. Murthy is ridiculous.  Firstly, he cheated us with the title of the course.  Bro, I thought Model thinking is a course where we talk a lot about real cool models and not the scary mathematical ones.  Next time, I will only take this course if it is offered by the design school.  Secondly, the jokes in the note book.  Dude, is he really serious?  I also thought when he talks about Defence and Abdul Kalam, he was flexing.  Bro, we never saw them together right. I really wish there was a way where I can skip all the classes and still get the highest score in Internship.  My bigger worry is that he has a negative thing on Prof. Kumar.  At least, I hope he will be reasonable in the examinations.  If not Internship, a good grade is nice enough.  Do you know bro, the biz school guys are taking dancing, swimming, making shapes with papers kind of courses.  Here, we are.  Dude is drowning us in Fermi estimates, Brute Force, Dynamic Programming and Simulated Annealing.  OMG bro, if I read them all like that they sound like swear words.  Not sure when the dude finds time.  Gives 30 pages extra stuff every two weeks.  This is totally uncool man.\"\n",
        "\n",
        "# Encrypt the message using the symbols\n",
        "encrypted_message = encrypt_message(message, symbols)\n",
        "\n",
        "# Print the encrypted message\n",
        "print(\"Encrypted message:\", encrypted_message)\n",
        "\n"
      ],
      "metadata": {
        "colab": {
          "base_uri": "https://localhost:8080/"
        },
        "id": "rpTJMcrIzre6",
        "outputId": "eb9f9b5b-c519-4469-d0cd-59f3be552785"
      },
      "execution_count": null,
      "outputs": [
        {
          "output_type": "stream",
          "name": "stdout",
          "text": [
            "Drive already mounted at /content/drive; to attempt to forcibly remount, call drive.mount(\"/content/drive\", force_remount=True).\n",
            "Encrypted message: nxub\"=p9k ;1 x k,v;pe k,u k2qe,p2 p=9j2 b,1;n, =p2,npkj=7 kqbu=kk=;p. = 2j=pr en. uqn2jo =k n=e=vq\";qk.  1=nk2\"ot j, vj,x2,e qk !=2j 2j, 2=2\", ;1 2j, v;qnk,.  bn;t = 2j;q9j2 u;e,\" 2j=pr=p9 =k x v;qnk, !j,n, !, 2x\"r x \";2 xb;q2 n,x\" v;;\" u;e,\"k xpe p;2 2j, kvxno ux2j,ux2=vx\" ;p,k.  p,y2 2=u,t = !=\"\" ;p\"o 2xr, 2j=k v;qnk, =1 =2 =k ;11,n,e bo 2j, e,k=9p kvj;;\".  k,v;pe\"ot 2j, 5;r,k =p 2j, p;2, b;;r.  eqe,t =k j, n,x\"\"o k,n=;qkw  = x\"k; 2j;q9j2 !j,p j, 2x\"rk xb;q2 e,1,pv, xpe xbeq\" rx\"xut j, !xk 1\",y=p9.  bn;t !, p,0,n kx! 2j,u 2;9,2j,n n=9j2. = n,x\"\"o !=kj 2j,n, !xk x !xo !j,n, = vxp kr=7 x\"\" 2j, v\"xkk,k xpe k2=\"\" 9,2 2j, j=9j,k2 kv;n, =p =p2,npkj=7.  uo b=99,n !;nno =k 2jx2 j, jxk x p,9x2=0, 2j=p9 ;p 7n;1. rquxn.  x2 \",xk2t = j;7, j, !=\"\" b, n,xk;pxb\", =p 2j, ,yxu=px2=;pk.  =1 p;2 =p2,npkj=7t x 9;;e 9nxe, =k p=v, ,p;q9j.  e; o;q rp;! bn;t 2j, b=8 kvj;;\" 9qok xn, 2xr=p9 expv=p9t k!=uu=p9t uxr=p9 kjx7,k !=2j 7x7,nk r=pe ;1 v;qnk,k.  j,n,t !, xn,.  eqe, =k en;!p=p9 qk =p 1,nu= ,k2=ux2,kt bnq2, 1;nv,t eopxu=v 7n;9nxuu=p9 xpe k=uq\"x2,e xpp,x\"=p9.  ;u9 bn;t =1 = n,xe 2j,u x\"\" \"=r, 2jx2 2j,o k;qpe \"=r, k!,xn !;nek.  p;2 kqn, !j,p 2j, eqe, 1=pek 2=u,.  9=0,k fl 7x9,k ,y2nx k2q11 ,0,no 2!; !,,rk.  2j=k =k 2;2x\"\"o qpv;;\" uxp.\n"
          ]
        }
      ]
    }
  ]
}